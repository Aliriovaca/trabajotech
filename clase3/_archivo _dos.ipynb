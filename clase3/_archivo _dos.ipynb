{
 "cells": [
  {
   "cell_type": "code",
   "execution_count": 22,
   "metadata": {},
   "outputs": [
    {
     "name": "stdout",
     "output_type": "stream",
     "text": [
      "<class 'str'>\n",
      "['a']\n"
     ]
    }
   ],
   "source": [
    "# variable_dos=\"texto dos\"\n",
    "# my_string = \"hdisStrngisAvesome\"\n",
    "# my_string.upper\n",
    "# print(my_string.upper())\n",
    "# print(variable_dos)\n",
    "my_string =  \"hdisStrngisAvesome\"\n",
    "s=10\n",
    "my_string.upper()\n",
    "my_string.lower()\n",
    "my_string.count(\"tr\")\n",
    "my_string.replace(\"1\",\"X\")\n",
    "\n",
    "my_string_dos=\"texto dos\"\n",
    "\n",
    "#concatenar(+)\n",
    "\n",
    "\"m\" in my_string_dos\n",
    "\n",
    "#lista[]\n",
    "lista=[\"a\",\"b\",\"1\",1,8]\n",
    "print(type(lista[2]))\n",
    "\n",
    "#print(type(lista[1:2]))\n",
    "\n",
    "print(lista[0:1])\n",
    "\n",
    "\n",
    "\n",
    "\n"
   ]
  },
  {
   "cell_type": "code",
   "execution_count": 5,
   "metadata": {},
   "outputs": [
    {
     "ename": "IndentationError",
     "evalue": "unexpected indent (4238293432.py, line 4)",
     "output_type": "error",
     "traceback": [
      "\u001b[1;36m  Cell \u001b[1;32mIn[5], line 4\u001b[1;36m\u001b[0m\n\u001b[1;33m    print(type(8))\u001b[0m\n\u001b[1;37m    ^\u001b[0m\n\u001b[1;31mIndentationError\u001b[0m\u001b[1;31m:\u001b[0m unexpected indent\n"
     ]
    }
   ],
   "source": [
    "print(\"Hola\")\n",
    "\n",
    "\n",
    " print(type(8))\n",
    "\n",
    " print(type(1.8))\n",
    "\n",
    " print(type(\"texto\"))"
   ]
  }
 ],
 "metadata": {
  "kernelspec": {
   "display_name": "Python 3",
   "language": "python",
   "name": "python3"
  },
  "language_info": {
   "codemirror_mode": {
    "name": "ipython",
    "version": 3
   },
   "file_extension": ".py",
   "mimetype": "text/x-python",
   "name": "python",
   "nbconvert_exporter": "python",
   "pygments_lexer": "ipython3",
   "version": "3.12.2"
  }
 },
 "nbformat": 4,
 "nbformat_minor": 2
}
